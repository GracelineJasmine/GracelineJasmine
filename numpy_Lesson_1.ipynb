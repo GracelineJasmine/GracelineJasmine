{
  "nbformat": 4,
  "nbformat_minor": 0,
  "metadata": {
    "colab": {
      "name": "numpy_Lesson_1.ipynb",
      "provenance": [],
      "collapsed_sections": [],
      "authorship_tag": "ABX9TyPqolsjSBABCYNuMDQi0p7B",
      "include_colab_link": true
    },
    "kernelspec": {
      "name": "python3",
      "display_name": "Python 3"
    },
    "language_info": {
      "name": "python"
    }
  },
  "cells": [
    {
      "cell_type": "markdown",
      "metadata": {
        "id": "view-in-github",
        "colab_type": "text"
      },
      "source": [
        "<a href=\"https://colab.research.google.com/github/GracelineJasmine/GracelineJasmine/blob/main/numpy_Lesson_1.ipynb\" target=\"_parent\"><img src=\"https://colab.research.google.com/assets/colab-badge.svg\" alt=\"Open In Colab\"/></a>"
      ]
    },
    {
      "cell_type": "code",
      "execution_count": 1,
      "metadata": {
        "colab": {
          "base_uri": "https://localhost:8080/"
        },
        "id": "e7-_QlhWtvs8",
        "outputId": "49548ec1-159f-4c76-b8e4-86e0b88a2911"
      },
      "outputs": [
        {
          "output_type": "stream",
          "name": "stdout",
          "text": [
            "Array is of type:  <class 'numpy.ndarray'>\n",
            "No. of dimensions:  2\n",
            "Shape of array:  (2, 3)\n",
            "Size of array:  6\n",
            "Array stores elements of type:  int64\n"
          ]
        }
      ],
      "source": [
        "# Python program to demonstrate\n",
        "# basic array characteristics\n",
        "import numpy as np\n",
        "\n",
        "# Creating array object\n",
        "arr = np.array( [[ 1, 2, 3], [ 4, 2, 5]] )\n",
        "\n",
        "# Printing type of arr object\n",
        "print(\"Array is of type: \", type(arr))\n",
        "\n",
        "# Printing array dimensions (axes)\n",
        "print(\"No. of dimensions: \", arr.ndim)\n",
        "\n",
        "# Printing shape of array\n",
        "print(\"Shape of array: \", arr.shape)\n",
        "\n",
        "# Printing size (total number of elements) of array\n",
        "print(\"Size of array: \", arr.size)\n",
        "\n",
        "# Printing type of elements in array\n",
        "print(\"Array stores elements of type: \", arr.dtype)\n"
      ]
    },
    {
      "cell_type": "code",
      "source": [
        "!git clone https://github.com/GracelineJasmine/Python_Libraries.git"
      ],
      "metadata": {
        "colab": {
          "base_uri": "https://localhost:8080/"
        },
        "id": "jZ8m5c_tyJCZ",
        "outputId": "f6d41e13-37a6-4d76-8820-8d535f6b1305"
      },
      "execution_count": 3,
      "outputs": [
        {
          "output_type": "stream",
          "name": "stdout",
          "text": [
            "Cloning into 'Python_Libraries'...\n",
            "remote: Enumerating objects: 9, done.\u001b[K\n",
            "remote: Counting objects: 100% (9/9), done.\u001b[K\n",
            "remote: Compressing objects: 100% (7/7), done.\u001b[K\n",
            "remote: Total 9 (delta 1), reused 0 (delta 0), pack-reused 0\u001b[K\n",
            "Unpacking objects: 100% (9/9), done.\n"
          ]
        }
      ]
    }
  ]
}